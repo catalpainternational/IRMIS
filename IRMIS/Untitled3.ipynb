{
 "cells": [
  {
   "cell_type": "code",
   "execution_count": 1,
   "metadata": {},
   "outputs": [],
   "source": [
    "from assets.models import Road"
   ]
  },
  {
   "cell_type": "code",
   "execution_count": 2,
   "metadata": {},
   "outputs": [
    {
     "data": {
      "text/plain": [
       "assets.models.Road"
      ]
     },
     "execution_count": 2,
     "metadata": {},
     "output_type": "execute_result"
    }
   ],
   "source": [
    "Road"
   ]
  },
  {
   "cell_type": "code",
   "execution_count": 3,
   "metadata": {},
   "outputs": [],
   "source": [
    "from django.db.models import Func"
   ]
  },
  {
   "cell_type": "code",
   "execution_count": 5,
   "metadata": {},
   "outputs": [],
   "source": [
    "from csv_data_sources.models import CsvData"
   ]
  },
  {
   "cell_type": "code",
   "execution_count": 2,
   "metadata": {},
   "outputs": [
    {
     "name": "stderr",
     "output_type": "stream",
     "text": [
      "django.db.backends:DEBUG (0.001) SELECT \"csv_data_sources_csvdata\".\"id\", \"csv_data_sources_csvdata\".\"source_id\", \"csv_data_sources_csvdata\".\"row_index\", \"csv_data_sources_csvdata\".\"data\" FROM \"csv_data_sources_csvdata\" ORDER BY \"csv_data_sources_csvdata\".\"id\" ASC  LIMIT 1; args=()\n"
     ]
    }
   ],
   "source": [
    "CsvData.objects.first()"
   ]
  },
  {
   "cell_type": "code",
   "execution_count": 4,
   "metadata": {},
   "outputs": [
    {
     "data": {
      "text/plain": [
       "0"
      ]
     },
     "execution_count": 4,
     "metadata": {},
     "output_type": "execute_result"
    }
   ],
   "source": [
    "Survey.objects.filter(values__has_key='roughness').count()"
   ]
  },
  {
   "cell_type": "code",
   "execution_count": 45,
   "metadata": {},
   "outputs": [
    {
     "name": "stderr",
     "output_type": "stream",
     "text": [
      "django.db.backends:DEBUG (0.024) SELECT \"assets_survey\".\"chainage_start\", \"assets_survey\".\"chainage_end\", (SELECT U0.\"chainage_end\" FROM \"assets_survey\" U0 WHERE (U0.\"values\" ? 'roughness' AND ( U0.\"values\" -> 'csv_data_source_id')::integer  = (( \"assets_survey\".\"values\" -> 'csv_data_source_id')::integer ) AND ( U0.\"values\" -> 'csv_data_row_index')::integer  = (( \"assets_survey\".\"values\" -> 'csv_data_row_index')::integer - 1 ))) AS \"previous_chainage_end\" FROM \"assets_survey\" WHERE \"assets_survey\".\"values\" ? 'roughness'  LIMIT 21; args=('roughness', 'roughness')\n"
     ]
    },
    {
     "data": {
      "text/plain": [
       "<SurveyQuerySet [{'chainage_start': Decimal('30316.97893'), 'chainage_end': Decimal('30316.97893'), 'previous_chainage_end': Decimal('30316.97893')}, {'chainage_start': Decimal('30316.97893'), 'chainage_end': Decimal('30316.97893'), 'previous_chainage_end': Decimal('30316.97893')}, {'chainage_start': Decimal('30316.97893'), 'chainage_end': Decimal('30316.97893'), 'previous_chainage_end': Decimal('30316.97893')}, {'chainage_start': Decimal('30316.97893'), 'chainage_end': Decimal('30316.97893'), 'previous_chainage_end': Decimal('30316.97893')}, {'chainage_start': Decimal('30316.97893'), 'chainage_end': Decimal('30316.97893'), 'previous_chainage_end': Decimal('30316.97893')}, {'chainage_start': Decimal('30316.97893'), 'chainage_end': Decimal('30316.97893'), 'previous_chainage_end': Decimal('30316.97893')}, {'chainage_start': Decimal('30316.97893'), 'chainage_end': Decimal('30316.97893'), 'previous_chainage_end': Decimal('30316.97893')}, {'chainage_start': Decimal('30316.97893'), 'chainage_end': Decimal('30316.97893'), 'previous_chainage_end': Decimal('30316.97893')}, {'chainage_start': Decimal('30316.97893'), 'chainage_end': Decimal('30316.97893'), 'previous_chainage_end': Decimal('30316.97893')}, {'chainage_start': Decimal('30316.97893'), 'chainage_end': Decimal('30316.97893'), 'previous_chainage_end': Decimal('30316.97893')}, {'chainage_start': Decimal('30272.34457'), 'chainage_end': Decimal('30316.97893'), 'previous_chainage_end': Decimal('30263.54773')}, {'chainage_start': Decimal('30168.20312'), 'chainage_end': Decimal('30263.54773'), 'previous_chainage_end': Decimal('30159.47912')}, {'chainage_start': Decimal('30065.45640'), 'chainage_end': Decimal('30159.47912'), 'previous_chainage_end': Decimal('30056.64101')}, {'chainage_start': Decimal('29963.36586'), 'chainage_end': Decimal('30056.64101'), 'previous_chainage_end': Decimal('29950.27511')}, {'chainage_start': Decimal('29851.46788'), 'chainage_end': Decimal('29950.27511'), 'previous_chainage_end': Decimal('29843.52321')}, {'chainage_start': Decimal('29748.08218'), 'chainage_end': Decimal('29843.52321'), 'previous_chainage_end': Decimal('29736.37064')}, {'chainage_start': Decimal('29639.41291'), 'chainage_end': Decimal('29736.37064'), 'previous_chainage_end': Decimal('29635.18414')}, {'chainage_start': Decimal('29536.19076'), 'chainage_end': Decimal('29635.18414'), 'previous_chainage_end': Decimal('29525.34658')}, {'chainage_start': Decimal('29431.18032'), 'chainage_end': Decimal('29525.34658'), 'previous_chainage_end': Decimal('29420.00788')}, {'chainage_start': Decimal('29322.98481'), 'chainage_end': Decimal('29420.00788'), 'previous_chainage_end': Decimal('29307.29927')}, '...(remaining elements truncated)...']>"
      ]
     },
     "execution_count": 45,
     "metadata": {},
     "output_type": "execute_result"
    }
   ],
   "source": [
    "# Annotate the Survey objects with the \"csv_data_row_index\" property of JSON\n",
    "\n",
    "annotate_row_ids = Survey.objects.filter(values__has_key='roughness').annotate(\n",
    "    csv_data_source=Func(F('values'), template='''( %(expressions)s -> 'csv_data_source_id')::integer '''),\n",
    "    csv_row=Func(F('values'), template='''( %(expressions)s -> 'csv_data_row_index')::integer '''),\n",
    "    previous_row = Func(F('values'), template='''( %(expressions)s -> 'csv_data_row_index')::integer - 1 '''),\n",
    "    next_row = Func(F('values'), template='''( %(expressions)s -> 'csv_data_row_index')::integer + 1 '''),\n",
    ")\n",
    "\n",
    "# Subquery for the last point's chainage\n",
    "sq = Subquery(\n",
    "    annotate_row_ids.filter(\n",
    "        csv_data_source = OuterRef('csv_data_source'),\n",
    "        csv_row=OuterRef('previous_row')\n",
    "    ).values('chainage_end')\n",
    ")\n",
    "\n",
    "annotate_row_ids.annotate(previous_chainage_end = sq).values('chainage_start', 'chainage_end', 'previous_chainage_end')\n"
   ]
  },
  {
   "cell_type": "code",
   "execution_count": 1,
   "metadata": {},
   "outputs": [
    {
     "name": "stdout",
     "output_type": "stream",
     "text": [
      "Deleted old roughness csv/Roughness-Survey-2019-National-Roads/A02.csv objects (691, {'csv_data_sources.CsvData': 690, 'csv_data_sources.CsvDataSource': 1})\n",
      "Stored roughness csv source csv/Roughness-Survey-2019-National-Roads/A02.csv\n",
      "Added roughness 690 csv source rows\n",
      "Deleted old roughness csv/Roughness-Survey-2019-National-Roads/A01.csv objects (2142, {'csv_data_sources.CsvData': 2141, 'csv_data_sources.CsvDataSource': 1})\n",
      "Stored roughness csv source csv/Roughness-Survey-2019-National-Roads/A01.csv\n",
      "Added roughness 2141 csv source rows\n",
      "Deleted old roughness csv/Roughness-Survey-2019-National-Roads/A13.csv objects (276, {'csv_data_sources.CsvData': 275, 'csv_data_sources.CsvDataSource': 1})\n",
      "Stored roughness csv source csv/Roughness-Survey-2019-National-Roads/A13.csv\n",
      "Added roughness 275 csv source rows\n",
      "Deleted old roughness csv/Roughness-Survey-2019-National-Roads/A04.csv objects (484, {'csv_data_sources.CsvData': 483, 'csv_data_sources.CsvDataSource': 1})\n",
      "Stored roughness csv source csv/Roughness-Survey-2019-National-Roads/A04.csv\n",
      "Added roughness 483 csv source rows\n",
      "Deleted old roughness csv/Roughness-Survey-2019-National-Roads/A08.csv objects (1753, {'csv_data_sources.CsvData': 1752, 'csv_data_sources.CsvDataSource': 1})\n",
      "Stored roughness csv source csv/Roughness-Survey-2019-National-Roads/A08.csv\n",
      "Added roughness 1752 csv source rows\n",
      "Deleted old roughness csv/Roughness-Survey-2019-National-Roads/A03.csv objects (1440, {'csv_data_sources.CsvData': 1439, 'csv_data_sources.CsvDataSource': 1})\n",
      "Stored roughness csv source csv/Roughness-Survey-2019-National-Roads/A03.csv\n",
      "Added roughness 1439 csv source rows\n",
      "Deleted old roughness csv/Roughness-Survey-2019-National-Roads/A14.csv objects (444, {'csv_data_sources.CsvData': 443, 'csv_data_sources.CsvDataSource': 1})\n",
      "Stored roughness csv source csv/Roughness-Survey-2019-National-Roads/A14.csv\n",
      "Added roughness 443 csv source rows\n",
      "Deleted old roughness csv/Roughness-Survey-2019-National-Roads/A05.csv objects (518, {'csv_data_sources.CsvData': 517, 'csv_data_sources.CsvDataSource': 1})\n",
      "Stored roughness csv source csv/Roughness-Survey-2019-National-Roads/A05.csv\n",
      "Added roughness 517 csv source rows\n",
      "Deleted old roughness csv/Roughness-Survey-2019-National-Roads/A12.csv objects (1054, {'csv_data_sources.CsvData': 1053, 'csv_data_sources.CsvDataSource': 1})\n",
      "Stored roughness csv source csv/Roughness-Survey-2019-National-Roads/A12.csv\n",
      "Added roughness 1053 csv source rows\n",
      "Deleted old roughness csv/Roughness-Survey-2019-National-Roads/A16.csv objects (346, {'csv_data_sources.CsvData': 345, 'csv_data_sources.CsvDataSource': 1})\n",
      "Stored roughness csv source csv/Roughness-Survey-2019-National-Roads/A16.csv\n",
      "Added roughness 345 csv source rows\n",
      "Deleted old roughness csv/Roughness-Survey-2019-National-Roads/A11.csv objects (749, {'csv_data_sources.CsvData': 748, 'csv_data_sources.CsvDataSource': 1})\n",
      "Stored roughness csv source csv/Roughness-Survey-2019-National-Roads/A11.csv\n",
      "Added roughness 748 csv source rows\n",
      "Deleted old roughness csv/Roughness-Survey-2019-National-Roads/A10.csv objects (1090, {'csv_data_sources.CsvData': 1089, 'csv_data_sources.CsvDataSource': 1})\n",
      "Stored roughness csv source csv/Roughness-Survey-2019-National-Roads/A10.csv\n",
      "Added roughness 1089 csv source rows\n",
      "Deleted old roughness csv/Roughness-Survey-2019-National-Roads/A15.csv objects (267, {'csv_data_sources.CsvData': 266, 'csv_data_sources.CsvDataSource': 1})\n",
      "Stored roughness csv source csv/Roughness-Survey-2019-National-Roads/A15.csv\n",
      "Added roughness 266 csv source rows\n",
      "Deleted old roughness csv/Roughness-Survey-2019-National-Roads/A07.csv objects (454, {'csv_data_sources.CsvData': 453, 'csv_data_sources.CsvDataSource': 1})\n",
      "Stored roughness csv source csv/Roughness-Survey-2019-National-Roads/A07.csv\n",
      "Added roughness 453 csv source rows\n",
      "Deleted old roughness csv/Roughness-Survey-2019-Municipal-Roads/C06.csv objects (225, {'csv_data_sources.CsvData': 224, 'csv_data_sources.CsvDataSource': 1})\n",
      "Stored roughness csv source csv/Roughness-Survey-2019-Municipal-Roads/C06.csv\n",
      "Added roughness 224 csv source rows\n",
      "Deleted old roughness csv/Roughness-Survey-2019-Municipal-Roads/C21.csv objects (333, {'csv_data_sources.CsvData': 332, 'csv_data_sources.CsvDataSource': 1})\n",
      "Stored roughness csv source csv/Roughness-Survey-2019-Municipal-Roads/C21.csv\n",
      "Added roughness 332 csv source rows\n",
      "Deleted old roughness csv/Roughness-Survey-2019-Municipal-Roads/C02.csv objects (315, {'csv_data_sources.CsvData': 314, 'csv_data_sources.CsvDataSource': 1})\n",
      "Stored roughness csv source csv/Roughness-Survey-2019-Municipal-Roads/C02.csv\n",
      "Added roughness 314 csv source rows\n",
      "Deleted old roughness csv/Roughness-Survey-2019-Municipal-Roads/C03.csv objects (161, {'csv_data_sources.CsvData': 160, 'csv_data_sources.CsvDataSource': 1})\n",
      "Stored roughness csv source csv/Roughness-Survey-2019-Municipal-Roads/C03.csv\n",
      "Added roughness 160 csv source rows\n"
     ]
    }
   ],
   "source": [
    "import os\n",
    "from django.core import management\n",
    "from pathlib import Path\n",
    "paths = []\n",
    "\n",
    "gitdir = ('/home/josh/github/catalpainternational/estrada-data-sources')\n",
    "\n",
    "for source_dir in [\n",
    "    Path(gitdir) / 'csv' / 'Roughness-Survey-2019-National-Roads',\n",
    "    Path(gitdir) / 'csv' / 'Roughness-Survey-2019-Municipal-Roads'\n",
    "]:\n",
    "    for  file_name in os.listdir(source_dir):\n",
    "        paths.append(source_dir / file_name)\n",
    "\n",
    "management.call_command('import_csv_source', 'roughness', *paths)\n"
   ]
  },
  {
   "cell_type": "code",
   "execution_count": 1,
   "metadata": {},
   "outputs": [
    {
     "name": "stdout",
     "output_type": "stream",
     "text": [
      "CPU times: user 2.59 s, sys: 44 ms, total: 2.63 s\n",
      "Wall time: 40.2 s\n"
     ]
    }
   ],
   "source": [
    "%%time\n",
    "RoughnessSurvey.objects.clear_surveys()\n",
    "RoughnessSurvey.objects.make_surveys()"
   ]
  },
  {
   "cell_type": "code",
   "execution_count": 2,
   "metadata": {},
   "outputs": [
    {
     "data": {
      "text/plain": [
       "12379"
      ]
     },
     "execution_count": 2,
     "metadata": {},
     "output_type": "execute_result"
    }
   ],
   "source": [
    "Survey.objects.filter(values__has_key='source_roughness').count()"
   ]
  },
  {
   "cell_type": "code",
   "execution_count": 3,
   "metadata": {},
   "outputs": [
    {
     "data": {
      "text/plain": [
       "<SurveyQuerySet []>"
      ]
     },
     "execution_count": 3,
     "metadata": {},
     "output_type": "execute_result"
    }
   ],
   "source": [
    "Survey.objects.filter(chainage_start__gt=F('chainage_end'), values__has_key='source_roughness').values('chainage_start', 'chainage_end')"
   ]
  },
  {
   "cell_type": "code",
   "execution_count": 4,
   "metadata": {},
   "outputs": [
    {
     "data": {
      "text/plain": [
       "2152"
      ]
     },
     "execution_count": 4,
     "metadata": {},
     "output_type": "execute_result"
    }
   ],
   "source": [
    "Survey.objects.filter(chainage_start__gte=F('chainage_end')).count()"
   ]
  },
  {
   "cell_type": "code",
   "execution_count": 5,
   "metadata": {},
   "outputs": [
    {
     "data": {
      "text/plain": [
       "0"
      ]
     },
     "execution_count": 5,
     "metadata": {},
     "output_type": "execute_result"
    }
   ],
   "source": [
    "Survey.objects.filter(values__has_key='roughness').count()"
   ]
  },
  {
   "cell_type": "code",
   "execution_count": 6,
   "metadata": {},
   "outputs": [
    {
     "name": "stdout",
     "output_type": "stream",
     "text": [
      "CPU times: user 8.82 ms, sys: 23 µs, total: 8.84 ms\n",
      "Wall time: 544 ms\n"
     ]
    },
    {
     "data": {
      "text/plain": [
       "12379"
      ]
     },
     "execution_count": 6,
     "metadata": {},
     "output_type": "execute_result"
    }
   ],
   "source": [
    "%%time\n",
    "from assets.managers import update_roughness_survey_values\n",
    "update_roughness_survey_values()"
   ]
  },
  {
   "cell_type": "code",
   "execution_count": 7,
   "metadata": {},
   "outputs": [
    {
     "ename": "KeyboardInterrupt",
     "evalue": "",
     "output_type": "error",
     "traceback": [
      "\u001b[0;31m---------------------------------------------------------------------------\u001b[0m",
      "\u001b[0;31mKeyboardInterrupt\u001b[0m                         Traceback (most recent call last)",
      "\u001b[0;32m<timed exec>\u001b[0m in \u001b[0;36m<module>\u001b[0;34m\u001b[0m\n",
      "\u001b[0;32m~/github/catalpainternational/roads/IRMIS/assets/managers.py\u001b[0m in \u001b[0;36mupdate_roughness_chainage_values\u001b[0;34m()\u001b[0m\n\u001b[1;32m    233\u001b[0m \u001b[0;34m\u001b[0m\u001b[0m\n\u001b[1;32m    234\u001b[0m     \u001b[0;32mwith\u001b[0m \u001b[0mconnection\u001b[0m\u001b[0;34m.\u001b[0m\u001b[0mcursor\u001b[0m\u001b[0;34m(\u001b[0m\u001b[0;34m)\u001b[0m \u001b[0;32mas\u001b[0m \u001b[0mc\u001b[0m\u001b[0;34m:\u001b[0m\u001b[0;34m\u001b[0m\u001b[0;34m\u001b[0m\u001b[0m\n\u001b[0;32m--> 235\u001b[0;31m         \u001b[0mc\u001b[0m\u001b[0;34m.\u001b[0m\u001b[0mexecute\u001b[0m\u001b[0;34m(\u001b[0m\u001b[0msql\u001b[0m\u001b[0;34m)\u001b[0m\u001b[0;34m\u001b[0m\u001b[0;34m\u001b[0m\u001b[0m\n\u001b[0m\u001b[1;32m    236\u001b[0m \u001b[0;34m\u001b[0m\u001b[0m\n\u001b[1;32m    237\u001b[0m \u001b[0;34m\u001b[0m\u001b[0m\n",
      "\u001b[0;32m~/github/catalpainternational/roads/env/lib/python3.6/site-packages/django/db/backends/utils.py\u001b[0m in \u001b[0;36mexecute\u001b[0;34m(self, sql, params)\u001b[0m\n\u001b[1;32m     97\u001b[0m         \u001b[0mstart\u001b[0m \u001b[0;34m=\u001b[0m \u001b[0mtime\u001b[0m\u001b[0;34m(\u001b[0m\u001b[0;34m)\u001b[0m\u001b[0;34m\u001b[0m\u001b[0;34m\u001b[0m\u001b[0m\n\u001b[1;32m     98\u001b[0m         \u001b[0;32mtry\u001b[0m\u001b[0;34m:\u001b[0m\u001b[0;34m\u001b[0m\u001b[0;34m\u001b[0m\u001b[0m\n\u001b[0;32m---> 99\u001b[0;31m             \u001b[0;32mreturn\u001b[0m \u001b[0msuper\u001b[0m\u001b[0;34m(\u001b[0m\u001b[0;34m)\u001b[0m\u001b[0;34m.\u001b[0m\u001b[0mexecute\u001b[0m\u001b[0;34m(\u001b[0m\u001b[0msql\u001b[0m\u001b[0;34m,\u001b[0m \u001b[0mparams\u001b[0m\u001b[0;34m)\u001b[0m\u001b[0;34m\u001b[0m\u001b[0;34m\u001b[0m\u001b[0m\n\u001b[0m\u001b[1;32m    100\u001b[0m         \u001b[0;32mfinally\u001b[0m\u001b[0;34m:\u001b[0m\u001b[0;34m\u001b[0m\u001b[0;34m\u001b[0m\u001b[0m\n\u001b[1;32m    101\u001b[0m             \u001b[0mstop\u001b[0m \u001b[0;34m=\u001b[0m \u001b[0mtime\u001b[0m\u001b[0;34m(\u001b[0m\u001b[0;34m)\u001b[0m\u001b[0;34m\u001b[0m\u001b[0;34m\u001b[0m\u001b[0m\n",
      "\u001b[0;32m~/github/catalpainternational/roads/env/lib/python3.6/site-packages/django/db/backends/utils.py\u001b[0m in \u001b[0;36mexecute\u001b[0;34m(self, sql, params)\u001b[0m\n\u001b[1;32m     65\u001b[0m \u001b[0;34m\u001b[0m\u001b[0m\n\u001b[1;32m     66\u001b[0m     \u001b[0;32mdef\u001b[0m \u001b[0mexecute\u001b[0m\u001b[0;34m(\u001b[0m\u001b[0mself\u001b[0m\u001b[0;34m,\u001b[0m \u001b[0msql\u001b[0m\u001b[0;34m,\u001b[0m \u001b[0mparams\u001b[0m\u001b[0;34m=\u001b[0m\u001b[0;32mNone\u001b[0m\u001b[0;34m)\u001b[0m\u001b[0;34m:\u001b[0m\u001b[0;34m\u001b[0m\u001b[0;34m\u001b[0m\u001b[0m\n\u001b[0;32m---> 67\u001b[0;31m         \u001b[0;32mreturn\u001b[0m \u001b[0mself\u001b[0m\u001b[0;34m.\u001b[0m\u001b[0m_execute_with_wrappers\u001b[0m\u001b[0;34m(\u001b[0m\u001b[0msql\u001b[0m\u001b[0;34m,\u001b[0m \u001b[0mparams\u001b[0m\u001b[0;34m,\u001b[0m \u001b[0mmany\u001b[0m\u001b[0;34m=\u001b[0m\u001b[0;32mFalse\u001b[0m\u001b[0;34m,\u001b[0m \u001b[0mexecutor\u001b[0m\u001b[0;34m=\u001b[0m\u001b[0mself\u001b[0m\u001b[0;34m.\u001b[0m\u001b[0m_execute\u001b[0m\u001b[0;34m)\u001b[0m\u001b[0;34m\u001b[0m\u001b[0;34m\u001b[0m\u001b[0m\n\u001b[0m\u001b[1;32m     68\u001b[0m \u001b[0;34m\u001b[0m\u001b[0m\n\u001b[1;32m     69\u001b[0m     \u001b[0;32mdef\u001b[0m \u001b[0mexecutemany\u001b[0m\u001b[0;34m(\u001b[0m\u001b[0mself\u001b[0m\u001b[0;34m,\u001b[0m \u001b[0msql\u001b[0m\u001b[0;34m,\u001b[0m \u001b[0mparam_list\u001b[0m\u001b[0;34m)\u001b[0m\u001b[0;34m:\u001b[0m\u001b[0;34m\u001b[0m\u001b[0;34m\u001b[0m\u001b[0m\n",
      "\u001b[0;32m~/github/catalpainternational/roads/env/lib/python3.6/site-packages/django/db/backends/utils.py\u001b[0m in \u001b[0;36m_execute_with_wrappers\u001b[0;34m(self, sql, params, many, executor)\u001b[0m\n\u001b[1;32m     74\u001b[0m         \u001b[0;32mfor\u001b[0m \u001b[0mwrapper\u001b[0m \u001b[0;32min\u001b[0m \u001b[0mreversed\u001b[0m\u001b[0;34m(\u001b[0m\u001b[0mself\u001b[0m\u001b[0;34m.\u001b[0m\u001b[0mdb\u001b[0m\u001b[0;34m.\u001b[0m\u001b[0mexecute_wrappers\u001b[0m\u001b[0;34m)\u001b[0m\u001b[0;34m:\u001b[0m\u001b[0;34m\u001b[0m\u001b[0;34m\u001b[0m\u001b[0m\n\u001b[1;32m     75\u001b[0m             \u001b[0mexecutor\u001b[0m \u001b[0;34m=\u001b[0m \u001b[0mfunctools\u001b[0m\u001b[0;34m.\u001b[0m\u001b[0mpartial\u001b[0m\u001b[0;34m(\u001b[0m\u001b[0mwrapper\u001b[0m\u001b[0;34m,\u001b[0m \u001b[0mexecutor\u001b[0m\u001b[0;34m)\u001b[0m\u001b[0;34m\u001b[0m\u001b[0;34m\u001b[0m\u001b[0m\n\u001b[0;32m---> 76\u001b[0;31m         \u001b[0;32mreturn\u001b[0m \u001b[0mexecutor\u001b[0m\u001b[0;34m(\u001b[0m\u001b[0msql\u001b[0m\u001b[0;34m,\u001b[0m \u001b[0mparams\u001b[0m\u001b[0;34m,\u001b[0m \u001b[0mmany\u001b[0m\u001b[0;34m,\u001b[0m \u001b[0mcontext\u001b[0m\u001b[0;34m)\u001b[0m\u001b[0;34m\u001b[0m\u001b[0;34m\u001b[0m\u001b[0m\n\u001b[0m\u001b[1;32m     77\u001b[0m \u001b[0;34m\u001b[0m\u001b[0m\n\u001b[1;32m     78\u001b[0m     \u001b[0;32mdef\u001b[0m \u001b[0m_execute\u001b[0m\u001b[0;34m(\u001b[0m\u001b[0mself\u001b[0m\u001b[0;34m,\u001b[0m \u001b[0msql\u001b[0m\u001b[0;34m,\u001b[0m \u001b[0mparams\u001b[0m\u001b[0;34m,\u001b[0m \u001b[0;34m*\u001b[0m\u001b[0mignored_wrapper_args\u001b[0m\u001b[0;34m)\u001b[0m\u001b[0;34m:\u001b[0m\u001b[0;34m\u001b[0m\u001b[0;34m\u001b[0m\u001b[0m\n",
      "\u001b[0;32m~/github/catalpainternational/roads/env/lib/python3.6/site-packages/django/db/backends/utils.py\u001b[0m in \u001b[0;36m_execute\u001b[0;34m(self, sql, params, *ignored_wrapper_args)\u001b[0m\n\u001b[1;32m     80\u001b[0m         \u001b[0;32mwith\u001b[0m \u001b[0mself\u001b[0m\u001b[0;34m.\u001b[0m\u001b[0mdb\u001b[0m\u001b[0;34m.\u001b[0m\u001b[0mwrap_database_errors\u001b[0m\u001b[0;34m:\u001b[0m\u001b[0;34m\u001b[0m\u001b[0;34m\u001b[0m\u001b[0m\n\u001b[1;32m     81\u001b[0m             \u001b[0;32mif\u001b[0m \u001b[0mparams\u001b[0m \u001b[0;32mis\u001b[0m \u001b[0;32mNone\u001b[0m\u001b[0;34m:\u001b[0m\u001b[0;34m\u001b[0m\u001b[0;34m\u001b[0m\u001b[0m\n\u001b[0;32m---> 82\u001b[0;31m                 \u001b[0;32mreturn\u001b[0m \u001b[0mself\u001b[0m\u001b[0;34m.\u001b[0m\u001b[0mcursor\u001b[0m\u001b[0;34m.\u001b[0m\u001b[0mexecute\u001b[0m\u001b[0;34m(\u001b[0m\u001b[0msql\u001b[0m\u001b[0;34m)\u001b[0m\u001b[0;34m\u001b[0m\u001b[0;34m\u001b[0m\u001b[0m\n\u001b[0m\u001b[1;32m     83\u001b[0m             \u001b[0;32melse\u001b[0m\u001b[0;34m:\u001b[0m\u001b[0;34m\u001b[0m\u001b[0;34m\u001b[0m\u001b[0m\n\u001b[1;32m     84\u001b[0m                 \u001b[0;32mreturn\u001b[0m \u001b[0mself\u001b[0m\u001b[0;34m.\u001b[0m\u001b[0mcursor\u001b[0m\u001b[0;34m.\u001b[0m\u001b[0mexecute\u001b[0m\u001b[0;34m(\u001b[0m\u001b[0msql\u001b[0m\u001b[0;34m,\u001b[0m \u001b[0mparams\u001b[0m\u001b[0;34m)\u001b[0m\u001b[0;34m\u001b[0m\u001b[0;34m\u001b[0m\u001b[0m\n",
      "\u001b[0;32m/usr/lib/python3.6/encodings/utf_8.py\u001b[0m in \u001b[0;36mdecode\u001b[0;34m(input, errors)\u001b[0m\n\u001b[1;32m     13\u001b[0m \u001b[0mencode\u001b[0m \u001b[0;34m=\u001b[0m \u001b[0mcodecs\u001b[0m\u001b[0;34m.\u001b[0m\u001b[0mutf_8_encode\u001b[0m\u001b[0;34m\u001b[0m\u001b[0;34m\u001b[0m\u001b[0m\n\u001b[1;32m     14\u001b[0m \u001b[0;34m\u001b[0m\u001b[0m\n\u001b[0;32m---> 15\u001b[0;31m \u001b[0;32mdef\u001b[0m \u001b[0mdecode\u001b[0m\u001b[0;34m(\u001b[0m\u001b[0minput\u001b[0m\u001b[0;34m,\u001b[0m \u001b[0merrors\u001b[0m\u001b[0;34m=\u001b[0m\u001b[0;34m'strict'\u001b[0m\u001b[0;34m)\u001b[0m\u001b[0;34m:\u001b[0m\u001b[0;34m\u001b[0m\u001b[0;34m\u001b[0m\u001b[0m\n\u001b[0m\u001b[1;32m     16\u001b[0m     \u001b[0;32mreturn\u001b[0m \u001b[0mcodecs\u001b[0m\u001b[0;34m.\u001b[0m\u001b[0mutf_8_decode\u001b[0m\u001b[0;34m(\u001b[0m\u001b[0minput\u001b[0m\u001b[0;34m,\u001b[0m \u001b[0merrors\u001b[0m\u001b[0;34m,\u001b[0m \u001b[0;32mTrue\u001b[0m\u001b[0;34m)\u001b[0m\u001b[0;34m\u001b[0m\u001b[0;34m\u001b[0m\u001b[0m\n\u001b[1;32m     17\u001b[0m \u001b[0;34m\u001b[0m\u001b[0m\n",
      "\u001b[0;31mKeyboardInterrupt\u001b[0m: "
     ]
    }
   ],
   "source": [
    "%%time\n",
    "from assets.managers import update_roughness_chainage_values\n",
    "update_roughness_chainage_values()"
   ]
  },
  {
   "cell_type": "code",
   "execution_count": 14,
   "metadata": {},
   "outputs": [],
   "source": [
    "from django.db.models import Func"
   ]
  },
  {
   "cell_type": "code",
   "execution_count": 101,
   "metadata": {},
   "outputs": [
    {
     "data": {
      "text/plain": [
       "('SELECT \"assets_survey\".\"id\", \"assets_survey\".\"chainage_start\", (SELECT U0.\"chainage_start\" FROM \"assets_survey\" U0 WHERE (U0.\"values\" ? %s AND (values -> \\'csv_data_row_index\\'):: integer = ((values -> \\'csv_data_source_id\\'):: integer) AND ((values -> \\'csv_data_row_index\\'):: integer - %s) = ((values -> \\'csv_data_row_index\\'):: integer))) AS \"chainage\" FROM \"assets_survey\" WHERE \"assets_survey\".\"values\" ? %s',\n",
       " ('roughness', 1, 'roughness'))"
      ]
     },
     "execution_count": 101,
     "metadata": {},
     "output_type": "execute_result"
    }
   ],
   "source": [
    "from django.db import models\n",
    "from django.db.models import Func\n",
    "from django.db.models.functions import Cast\n",
    "\n",
    "class DataSourceId(Func):\n",
    "    template = \"(values -> 'csv_data_source_id'):: integer\"\n",
    "    default_alias = \"csv_data_source\"\n",
    "    output_field = models.IntegerField()\n",
    "    \n",
    "class RowIndexId(Func):\n",
    "    template = \"(values -> 'csv_data_row_index'):: integer\"\n",
    "    default_alias = \"csv_data_row\"\n",
    "    output_field = models.IntegerField()\n",
    "    \n",
    "# anno = Survey.objects.filter(values__has_key='roughness').annotate(innervalues=F('values')).annotate(DataSourceId(), RowIndexId()).annotate(next_csv_data_row=F('csv_data_row') + 1)\n",
    "\n",
    "\n",
    "anno = Survey.objects.filter(values__has_key='roughness').annotate(\n",
    "    DataSourceId(),\n",
    "    RowIndexId(),\n",
    "    prev_row = RowIndexId() - 1\n",
    ").values(\n",
    "    DataSourceId.default_alias,\n",
    "    RowIndexId.default_alias,\n",
    "    'prev_row',\n",
    "    'chainage_start'\n",
    ")\n",
    "\n",
    "anno.annotate(chainage = Subquery(anno.filter(\n",
    "    **{\n",
    "        'prev_row': F('%s' % (RowIndexId.default_alias,)),\n",
    "        RowIndexId.default_alias: F('%s' % (DataSourceId.default_alias,)),\n",
    "    }\n",
    ").values('chainage_start'))).values(\n",
    "    'id',\n",
    "    'chainage',\n",
    "    'chainage_start'\n",
    ").query.sql_with_params()\n",
    "\n",
    "\n",
    "# print(anno)\n",
    "#.annotate(next_inner_rowsource_id=F('inner_csv_data_row') + 1).annotate(\n",
    "#    DataSourceId(),\n",
    "#    RowIndexId()\n",
    "#)\n",
    "# anno.values('dsic', 'ridc')\n",
    "# Survey.objects.annotate(DataSourceId(), RowIndexId()).annotate(next_row_start_chainage = sq_next_start).values('chainage_start', 'id', 'next_row_start_chainage').query.sql_with_params()"
   ]
  },
  {
   "cell_type": "code",
   "execution_count": null,
   "metadata": {},
   "outputs": [],
   "source": [
    "\n"
   ]
  },
  {
   "cell_type": "code",
   "execution_count": null,
   "metadata": {},
   "outputs": [],
   "source": []
  },
  {
   "cell_type": "code",
   "execution_count": null,
   "metadata": {},
   "outputs": [],
   "source": []
  }
 ],
 "metadata": {
  "kernelspec": {
   "display_name": "Python (estrada)",
   "language": "python",
   "name": "estrada"
  },
  "language_info": {
   "codemirror_mode": {
    "name": "ipython",
    "version": 3
   },
   "file_extension": ".py",
   "mimetype": "text/x-python",
   "name": "python",
   "nbconvert_exporter": "python",
   "pygments_lexer": "ipython3",
   "version": "3.6.9"
  }
 },
 "nbformat": 4,
 "nbformat_minor": 4
}
