{
 "cells": [
  {
   "cell_type": "code",
   "execution_count": null,
   "metadata": {
    "scrolled": false
   },
   "outputs": [],
   "source": [
    "from django.contrib.gis.gdal import DataSource, GDALException\n",
    "\n",
    "from django.contrib.gis.geos import LineString, MultiLineString\n",
    "from assets.models import Road, SourceNationalRoad, SourceMunicipalRoad, SourceRrmpis, SourceR4D\n",
    "\n",
    "\n",
    "def read_shape_file(shp_file, source_model, unique_keys):\n",
    "    for feature in shp_file[0]:\n",
    "\n",
    "        print('examining feature ', feature.fid, feature[unique_keys[0]])\n",
    "        \n",
    "        # try to get the source properties\n",
    "        try:\n",
    "            values = {key: feature[key] for key in unique_keys}\n",
    "            properties = source_model.objects.get(**values)\n",
    "        except source_model.MultipleObjectsReturned as ex:\n",
    "            properties = source_model.objects.filter(**values).first()\n",
    "            print('more than one match for ', ['{}={}'.format(key, val) for key, val in values.items()], 'using first found')\n",
    "        except source_model.DoesNotExist as ex:\n",
    "            print('empty row')\n",
    "            continue\n",
    "\n",
    "        # turn line strigns into multilinestrings\n",
    "        try:\n",
    "            if isinstance(feature.geom.geos, LineString):\n",
    "                print('LineString - converting to multiline')\n",
    "                multi_line_string = MultiLineString(feature.geom.geos)\n",
    "            elif isinstance(feature.geom.geos, MultiLineString):\n",
    "                print('MultiLineString - using as is')\n",
    "                multi_line_string = feature.geom.geos\n",
    "            else:\n",
    "                print('!!!!! unhandled geometry type', feature.geom.geos)\n",
    "        except GDALException as ex:\n",
    "            print(dir(feature))\n",
    "            print(feature[0])\n",
    "            print('!!!!!!!', ex)\n",
    "            break\n",
    "            \n",
    "        # create Road\n",
    "        road = Road.objects.create(properties=properties, geom=multi_line_string)\n",
    "        print('created', road)\n",
    "        print('----------')\n",
    "\n",
    "\n",
    "Road.objects.all().delete()\n",
    "        \n",
    "national_roads_shp = DataSource('../../ngis/National_Road.shp')\n",
    "municipal_roads_shp = DataSource('../../ngis/Municipal_Road.shp')\n",
    "rural_roads_r4d_shp = DataSource('../../ngis/Rural_Road_R4D_Timor_Leste.shp')\n",
    "rural_roads_rrmpis_shp = DataSource('../../ngis/RRMPIS_2014.shp')\n",
    "       \n",
    "read_shape_file(national_roads_shp, SourceNationalRoad, ['name', 'subcode', 'code'])\n",
    "read_shape_file(municipal_roads_shp, SourceMunicipalRoad, ['name', 'descriptio'])\n",
    "read_shape_file(rural_roads_r4d_shp, SourceR4D, ['road_lin_1', 'id'])\n",
    "#read_shape_file(rural_roads_rrmpis_shp, SourceRrmpis, ['rd_id', 'rdcode_cn', 'sheet_ref'])\n",
    "\n",
    "print('we have', Road.objects.count(), 'roads')"
   ]
  },
  {
   "cell_type": "code",
   "execution_count": 21,
   "metadata": {},
   "outputs": [
    {
     "data": {
      "text/plain": [
       "(116, {'assets.Road': 116})"
      ]
     },
     "execution_count": 21,
     "metadata": {},
     "output_type": "execute_result"
    }
   ],
   "source": [
    "Road.objects.all().delete()\n",
    "SourceNationalRoadProperties"
   ]
  },
  {
   "cell_type": "code",
   "execution_count": null,
   "metadata": {},
   "outputs": [],
   "source": []
  }
 ],
 "metadata": {
  "kernelspec": {
   "display_name": "Django Shell-Plus",
   "language": "python",
   "name": "django_extensions"
  },
  "language_info": {
   "codemirror_mode": {
    "name": "ipython",
    "version": 3
   },
   "file_extension": ".py",
   "mimetype": "text/x-python",
   "name": "python",
   "nbconvert_exporter": "python",
   "pygments_lexer": "ipython3",
   "version": "3.6.8"
  }
 },
 "nbformat": 4,
 "nbformat_minor": 2
}
