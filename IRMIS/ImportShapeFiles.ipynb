{
 "cells": [
  {
   "cell_type": "markdown",
   "metadata": {},
   "source": [
    "# Roads Import"
   ]
  },
  {
   "cell_type": "markdown",
   "metadata": {},
   "source": [
    "In order to have the Django environment vars, settings, and app load correctly,\n",
    "run this notebook from the Roads repo using: \n",
    "\n",
    "```bash\n",
    "./manage.py shell_plus --notebook\n",
    "```\n",
    "\n",
    "Ensure that the notebook kernel is set to \"Django Shell-Plus\", not \"Python3\".\n",
    "\n",
    "Make a symlink or copy from the shared roads directory to `ngis`.\n",
    "This sits in the root dir of wherever you cloned the Roads repo.\n",
    "\n",
    "## Special Handling\n",
    "\n",
    "\n",
    "### LinestringZM: Four Dimensions\n",
    "\n",
    "The `RRMPIS` file has four dimensions (x,y,z,m where m is for instance \"time this point was taken on GPS\"), and fails to load. The `Roads` table has three dimensions. Use ogr2ogr to drop the `M` (4th) dimension. Note that ogr2ogr arguments are the destination file before the source file.\n",
    "\n",
    "For example: `ogr2ogr -dim XYZ 2d_RRMPIS_2014.shp RRMPIS_2014.shp`\n",
    "\n",
    "### Bad Geometries\n",
    "\n",
    "When a \"bad\" geometry is encountered (which so far are some features in RRMPIS_2014 with no geometry data) it would rais an error as soon as one uses `feature.geom`. This is excepted out at the start of read_shape_file.\n"
   ]
  },
  {
   "cell_type": "code",
   "execution_count": 145,
   "metadata": {
    "scrolled": false
   },
   "outputs": [],
   "source": [
    "from django.contrib.gis.gdal import DataSource, GDALException\n",
    "from django.contrib.gis.geos import GEOSGeometry, LineString, MultiLineString\n",
    "from assets.models import Road, SourceNationalRoad, SourceMunicipalRoad, SourceRrmpis, SourceR4D\n",
    "from pathlib import Path\n",
    "\n",
    "source_dir = Path('.') / '..' / '..' / 'ngis'\n"
   ]
  },
  {
   "cell_type": "code",
   "execution_count": 146,
   "metadata": {},
   "outputs": [
    {
     "name": "stdout",
     "output_type": "stream",
     "text": [
      "/home/josh/github/catalpainternational/roads/IRMIS/../../ngis/National_Road.shp\n"
     ]
    }
   ],
   "source": [
    "national_roads_shp = '%s' % (source_dir / 'National_Road.shp').absolute()\n",
    "print(national_roads_shp)\n",
    "municipal_roads_shp = '%s' % (source_dir / 'Municipal_Road.shp')\n",
    "rural_roads_r4d_shp = '%s' % (source_dir / 'Rural_Road_R4D_Timor_Leste.shp')\n",
    "\n",
    "# See notes above. This is derived from RRMPIS_2014.\n",
    "rural_roads_rrmpis_shp = '%s' % (source_dir / '2d_RRMPIS_2014.shp')"
   ]
  },
  {
   "cell_type": "code",
   "execution_count": 147,
   "metadata": {},
   "outputs": [],
   "source": [
    "def read_shape_file(shp_path, source_model, unique_keys):\n",
    "    shp_file = DataSource(shp_path)\n",
    "    for feature in shp_file[0]:\n",
    "        database_srid = Road._meta.fields[1].srid\n",
    "        \n",
    "        try:\n",
    "            # Try accessing the feature geometry. If this fails it is usually because of an empty geometry. It may also\n",
    "            # be because the `Roads` table is XYZ coordinates and your input file (such as RRMPIS_2014) is in XYZM. \n",
    "            feature.geom\n",
    "        except GDALException:\n",
    "            print('!!! Error in geometry')\n",
    "            continue\n",
    "\n",
    "        srid = feature.geom.srid\n",
    "\n",
    "        print('examining feature ', feature.fid, feature[unique_keys[0]], ' original srid=', srid)\n",
    "        \n",
    "        # try to get the source properties\n",
    "        try:\n",
    "            values = {key: feature[key] for key in unique_keys}\n",
    "            properties = source_model.objects.get(**values)\n",
    "        except source_model.MultipleObjectsReturned as ex:\n",
    "            properties = source_model.objects.filter(**values).first()\n",
    "            print('more than one match for ', ['{}={}'.format(key, val) for key, val in values.items()], 'using first found')\n",
    "        except source_model.DoesNotExist as ex:\n",
    "            print('empty row')\n",
    "            continue\n",
    "\n",
    "        # turn line strigns into multilinestrings\n",
    "        try:\n",
    "            if isinstance(feature.geom.geos, LineString):\n",
    "                print('LineString - converting to MultiLineString')\n",
    "                multi_line_string = MultiLineString(feature.geom.geos)\n",
    "            elif isinstance(feature.geom.geos, MultiLineString):\n",
    "                print('MultiLineString - using as is')\n",
    "                multi_line_string = feature.geom.geos\n",
    "            else:\n",
    "                print('!!!!! unhandled geometry type', feature.geom.geos)\n",
    "        except GDALException as ex:\n",
    "            print(dir(feature))\n",
    "            print(feature[0])\n",
    "            print('!!!!!!!', ex)\n",
    "            break\n",
    "            \n",
    "        # create Road\n",
    "        road_geometry = GEOSGeometry(multi_line_string, srid=srid)\n",
    "        if srid != database_srid:\n",
    "            road_geometry.transform(database_srid)\n",
    "        road = Road.objects.create(properties=properties, geom=road_geometry.wkt)\n",
    "        print('created', road)\n",
    "        print('----------')"
   ]
  },
  {
   "cell_type": "code",
   "execution_count": 149,
   "metadata": {},
   "outputs": [],
   "source": [
    "Road.objects.all().delete()\n",
    "    \n",
    "read_shape_file(national_roads_shp, SourceNationalRoad, ['name', 'subcode', 'code'])\n",
    "read_shape_file(municipal_roads_shp, SourceMunicipalRoad, ['name', 'descriptio'])\n",
    "read_shape_file(rural_roads_r4d_shp, SourceR4D, ['road_lin_1', 'id'])\n",
    "read_shape_file(rural_roads_rrmpis_shp, SourceRrmpis, ['rd_id', 'rdcode_cn', 'sheet_ref'])"
   ]
  }
 ],
 "metadata": {
  "kernelspec": {
   "display_name": "Django Shell-Plus",
   "language": "python",
   "name": "django_extensions"
  },
  "language_info": {
   "codemirror_mode": {
    "name": "ipython",
    "version": 3
   },
   "file_extension": ".py",
   "mimetype": "text/x-python",
   "name": "python",
   "nbconvert_exporter": "python",
   "pygments_lexer": "ipython3",
   "version": "3.6.8"
  }
 },
 "nbformat": 4,
 "nbformat_minor": 2
}
